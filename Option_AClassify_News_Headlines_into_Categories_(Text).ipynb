{
  "cells": [
    {
      "cell_type": "code",
      "execution_count": 27,
      "id": "0a367510",
      "metadata": {
        "id": "0a367510"
      },
      "outputs": [],
      "source": [
        "import pandas as pd\n",
        "import re\n",
        "import nltk\n",
        "from nltk.corpus import stopwords\n",
        "from nltk.tokenize import word_tokenize\n",
        "from sklearn.feature_extraction.text import TfidfVectorizer\n",
        "from sklearn.model_selection import train_test_split\n",
        "from sklearn.linear_model import LogisticRegression\n",
        "from sklearn.tree import DecisionTreeClassifier\n",
        "from sklearn.neighbors import KNeighborsClassifier\n",
        "from sklearn.ensemble import GradientBoostingClassifier\n",
        "from sklearn.metrics import accuracy_score, classification_report"
      ]
    },
    {
      "cell_type": "markdown",
      "id": "cf85caed",
      "metadata": {
        "id": "cf85caed"
      },
      "source": []
    },
    {
      "cell_type": "code",
      "execution_count": 28,
      "id": "310e13d6",
      "metadata": {
        "colab": {
          "base_uri": "https://localhost:8080/"
        },
        "id": "310e13d6",
        "outputId": "9c6cdbf0-a281-43cf-c3ce-c9d90fc8ae7f"
      },
      "outputs": [
        {
          "output_type": "stream",
          "name": "stdout",
          "text": [
            "                                                text  label\n",
            "0  Wall St. Bears Claw Back Into the Black (Reute...      2\n",
            "1  Carlyle Looks Toward Commercial Aerospace (Reu...      2\n",
            "2  Oil and Economy Cloud Stocks' Outlook (Reuters...      2\n",
            "3  Iraq Halts Oil Exports from Main Southern Pipe...      2\n",
            "4  Oil prices soar to all-time record, posing new...      2\n"
          ]
        }
      ],
      "source": [
        "\n",
        "train_df = pd.read_parquet(\"train.parquet\")\n",
        "test_df = pd.read_parquet(\"test.parquet\")\n",
        "\n",
        "print(train_df.head())\n"
      ]
    },
    {
      "cell_type": "code",
      "execution_count": 29,
      "id": "-ygwcu3sNjJN",
      "metadata": {
        "colab": {
          "base_uri": "https://localhost:8080/"
        },
        "id": "-ygwcu3sNjJN",
        "outputId": "e3ea45b3-0dc9-4ce9-af96-760d5f57e068"
      },
      "outputs": [
        {
          "output_type": "stream",
          "name": "stdout",
          "text": [
            "<class 'pandas.core.frame.DataFrame'>\n",
            "RangeIndex: 120000 entries, 0 to 119999\n",
            "Data columns (total 2 columns):\n",
            " #   Column  Non-Null Count   Dtype \n",
            "---  ------  --------------   ----- \n",
            " 0   text    120000 non-null  object\n",
            " 1   label   120000 non-null  int64 \n",
            "dtypes: int64(1), object(1)\n",
            "memory usage: 1.8+ MB\n"
          ]
        }
      ],
      "source": [
        "train_df.info()"
      ]
    },
    {
      "cell_type": "code",
      "source": [
        "nltk.download('punkt')\n",
        "nltk.download('punkt_tab')\n"
      ],
      "metadata": {
        "colab": {
          "base_uri": "https://localhost:8080/"
        },
        "id": "PtJ0CEZQ4kVk",
        "outputId": "77f8a33d-0425-4599-f98c-f141fc9c0a1f"
      },
      "id": "PtJ0CEZQ4kVk",
      "execution_count": 38,
      "outputs": [
        {
          "output_type": "stream",
          "name": "stderr",
          "text": [
            "[nltk_data] Downloading package punkt to /root/nltk_data...\n",
            "[nltk_data]   Package punkt is already up-to-date!\n",
            "[nltk_data] Downloading package punkt_tab to /root/nltk_data...\n",
            "[nltk_data]   Unzipping tokenizers/punkt_tab.zip.\n"
          ]
        },
        {
          "output_type": "execute_result",
          "data": {
            "text/plain": [
              "True"
            ]
          },
          "metadata": {},
          "execution_count": 38
        }
      ]
    },
    {
      "cell_type": "code",
      "source": [
        "nltk.download('stopwords')\n",
        "stop_words = set(stopwords.words('english'))\n",
        "\n",
        "def clean_text(text):\n",
        "    if isinstance(text, str):\n",
        "        text = text.lower()\n",
        "        text = re.sub(r'\\W+', ' ', text)\n",
        "        words = word_tokenize(text)\n",
        "        words = [word for word in words if word not in stop_words]\n",
        "        return \" \".join(words)\n",
        "    return \"\"\n",
        "\n",
        "train_df['cleaned_text'] = train_df['text'].apply(clean_text)\n",
        "test_df['cleaned_text'] = test_df['text'].apply(clean_text)"
      ],
      "metadata": {
        "colab": {
          "base_uri": "https://localhost:8080/"
        },
        "id": "e4bpXseY3n74",
        "outputId": "b92f9981-caf4-4cd0-edbb-c105ba962ccf"
      },
      "id": "e4bpXseY3n74",
      "execution_count": 39,
      "outputs": [
        {
          "output_type": "stream",
          "name": "stderr",
          "text": [
            "[nltk_data] Downloading package stopwords to /root/nltk_data...\n",
            "[nltk_data]   Package stopwords is already up-to-date!\n"
          ]
        }
      ]
    },
    {
      "cell_type": "code",
      "execution_count": 40,
      "id": "7e651c78",
      "metadata": {
        "id": "7e651c78"
      },
      "outputs": [],
      "source": [
        "vectorizer = TfidfVectorizer()\n",
        "X_train = vectorizer.fit_transform(train_df['cleaned_text'])\n",
        "X_test = vectorizer.transform(test_df['cleaned_text'])\n",
        "y_train = train_df['label']\n",
        "y_test = test_df['label']"
      ]
    },
    {
      "cell_type": "code",
      "execution_count": 41,
      "id": "DBzR5qf1nrON",
      "metadata": {
        "colab": {
          "base_uri": "https://localhost:8080/"
        },
        "id": "DBzR5qf1nrON",
        "outputId": "a132db59-8017-46e5-8321-4cf1183061ee"
      },
      "outputs": [
        {
          "output_type": "stream",
          "name": "stdout",
          "text": [
            "🛠️Logistic Regression...\n",
            "🛠️Decision Tree...\n",
            "🛠️KNN...\n",
            "🛠️Gradient Boosting...\n",
            "                 Model  Accuracy  Precision    Recall  F1-score\n",
            "0  Logistic Regression  0.917368   0.917144  0.917368  0.917162\n",
            "1        Decision Tree  0.450000   0.746169  0.450000  0.432561\n",
            "2                  KNN  0.894605   0.894320  0.894605  0.894410\n",
            "3    Gradient Boosting  0.835526   0.838717  0.835526  0.836380\n"
          ]
        }
      ],
      "source": [
        "\n",
        "models = {\n",
        "    \"Logistic Regression\": LogisticRegression(max_iter=200),\n",
        "    \"Decision Tree\": DecisionTreeClassifier(max_depth=10),\n",
        "    \"KNN\": KNeighborsClassifier(n_neighbors=3, algorithm=\"auto\"),\n",
        "    \"Gradient Boosting\": GradientBoostingClassifier(n_estimators=100)\n",
        "\n",
        "}\n",
        "\n",
        "results = []\n",
        "\n",
        "for name, model in models.items():\n",
        "    print(f\"🛠️{name}...\")\n",
        "    model.fit(X_train, y_train)\n",
        "    y_pred = model.predict(X_test)\n",
        "\n",
        "    acc = accuracy_score(y_test, y_pred)\n",
        "    report = classification_report(y_test, y_pred, output_dict=True)\n",
        "\n",
        "    results.append({\n",
        "        \"Model\": name,\n",
        "        \"Accuracy\": acc,\n",
        "        \"Precision\": report[\"weighted avg\"][\"precision\"],\n",
        "        \"Recall\": report[\"weighted avg\"][\"recall\"],\n",
        "        \"F1-score\": report[\"weighted avg\"][\"f1-score\"]\n",
        "    })\n",
        "\n",
        "df_results = pd.DataFrame(results)\n",
        "print(df_results)"
      ]
    }
  ],
  "metadata": {
    "colab": {
      "provenance": []
    },
    "kernelspec": {
      "display_name": "Python 3 (ipykernel)",
      "language": "python",
      "name": "python3"
    },
    "language_info": {
      "codemirror_mode": {
        "name": "ipython",
        "version": 3
      },
      "file_extension": ".py",
      "mimetype": "text/x-python",
      "name": "python",
      "nbconvert_exporter": "python",
      "pygments_lexer": "ipython3",
      "version": "3.9.13"
    }
  },
  "nbformat": 4,
  "nbformat_minor": 5
}

Results Summary:
Model	Accuracy	Precision	Recall	F1-score
Logistic Regression	0.917368	0.917144	0.917368	0.917162
Decision Tree	0.450000	0.746169	0.450000	0.432561
KNN	0.894605	0.894320	0.894605	0.894410
Gradient Boosting	0.835526	0.838717	0.835526	0.836380
Key Observations:
Logistic Regression:

This model performs very well across all metrics (accuracy, precision, recall, and F1-score).
It is likely the best-performing model for this task, as seen in the results.
Decision Tree:

The accuracy here is relatively low, and the precision and recall are also lower compared to the other models.
Decision Trees might not be capturing the complexity of the data effectively with the current settings.
K-Nearest Neighbors (KNN):

KNN shows strong performance, with high accuracy and balanced precision and recall.
It appears to be a good candidate for this classification task.
Gradient Boosting:

Gradient Boosting is also performing well, but its accuracy and F1-score are slightly lower than that of Logistic Regression and KNN.
